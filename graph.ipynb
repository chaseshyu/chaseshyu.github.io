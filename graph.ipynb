{
 "cells": [
  {
   "cell_type": "code",
   "execution_count": 33,
   "source": [
    "import datetime\n",
    "from plotly.offline import plot\n",
    "from plotly.subplots import make_subplots\n",
    "import plotly.graph_objects as go\n",
    "from plotly.graph_objects import Layout\n",
    "from plotly.graph_objs import Scatter, Figure, Layout\n",
    "import plotly.io as pio\n",
    "import numpy as np\n",
    "import pandas as pd\n",
    "\n",
    "population_202104 = 23514196\n",
    "csv_filename = '~/Programs/VaccineCOVID19Taiwan/VaccineCOVID19Taiwan - public.csv'\n",
    "Date = '日期'\n",
    "Event = '事件'\n",
    "InjectedAmount = '累計施打'\n",
    "InjectedAmountCorrect = '校正累計施打'\n",
    "ConfirmedLocalDaily = '單日本土確診'\n",
    "DeathDaily = '單日死亡'\n",
    "FinalCorrectAmount = '完成本土增補'\n",
    "\n",
    "title = '臺灣COVID-19疫苗接種統計報表'\n",
    "label_taiwan_vac = '疫苗接種(劑/人口)'\n",
    "label_bottom = '事件/統計日期(西元)'\n",
    "label_right = '新增本土確診/死亡（人）'\n",
    "label_left = '疫苗接種(%)'\n",
    "label_confirmed = '新增本土確診(人)'\n",
    "label_correction = '累計校正回歸(人)'\n",
    "label_death = '新增死亡(人)'\n",
    "\n",
    "first_date = datetime.datetime.fromisoformat('2021-03-01')\n",
    "last_date = datetime.datetime.today() + datetime.timedelta(days=1)\n",
    "last_date = datetime.datetime.fromisoformat('2021-07-21')\n",
    "dpi = 200\n"
   ],
   "outputs": [],
   "metadata": {}
  },
  {
   "cell_type": "code",
   "execution_count": 37,
   "source": [
    "def isEnglish(s):\n",
    "    try:\n",
    "        s.encode(encoding='utf-8').decode('ascii')\n",
    "    except UnicodeDecodeError:\n",
    "        return False\n",
    "    else:\n",
    "        return True\n",
    "\n",
    "def verticalizeText(text):\n",
    "    text = text.strip()\n",
    "    text_v = ''        \n",
    "    isE = [isEnglish(t) for t in text]\n",
    "    for j in range(len(text)):\n",
    "        if text[j] == ' ':\n",
    "            continue\n",
    "        if j < len(text)-1:\n",
    "            if text[j] == '/':\n",
    "                enter = True\n",
    "            elif j < len(text)-2:\n",
    "                if text[j+1] == '/':\n",
    "                    enter = True\n",
    "                elif text[j+1] == '#':\n",
    "                    enter = True\n",
    "                elif isE[j] and isE[j+1]:\n",
    "                    enter = False\n",
    "                elif isE[j] and not isE[j+1]:\n",
    "                    enter = True\n",
    "                elif not isE[j] and isE[j+1]:\n",
    "                    enter = True\n",
    "                elif not isE[j] and not isE[j+1]:\n",
    "                    enter = True\n",
    "            elif isE[j] and isE[j+1]:\n",
    "                enter = False\n",
    "            elif isE[j] and not isE[j+1]:\n",
    "                enter = True\n",
    "            elif not isE[j] and isE[j+1]:\n",
    "                enter = True\n",
    "            elif not isE[j] and not isE[j+1]:\n",
    "                enter = True\n",
    "        else:\n",
    "            enter = False\n",
    "\n",
    "        if enter:\n",
    "            text_v += text[j] + '\\n'\n",
    "        else: \n",
    "            text_v += text[j]\n",
    "    \n",
    "    return text_v"
   ],
   "outputs": [],
   "metadata": {}
  },
  {
   "cell_type": "code",
   "execution_count": 38,
   "source": [
    "df = pd.read_csv(csv_filename)\n",
    "df = df[~df[Date].isnull()]\n",
    "df.loc[:,Date] = df[Date].astype('datetime64[ns]')\n",
    "df.set_index(Date,inplace=True)\n",
    "ind = (df.index >= first_date + datetime.timedelta(days=-1)) * (df.index <= last_date.strftime('%Y-%m-%d'))\n",
    "df = df[ind]\n",
    "df.loc[(last_date+datetime.timedelta(days=-1)).strftime('%Y-%m-%d'),InjectedAmountCorrect] = \\\n",
    "    df.loc[(last_date+datetime.timedelta(days=-1)).strftime('%Y-%m-%d'),InjectedAmount]\n",
    "\n",
    "ind = df[InjectedAmountCorrect].isnull()\n",
    "df.loc[ind,InjectedAmountCorrect] = df.loc[ind,InjectedAmount]\n",
    "df['mavg'] = df[InjectedAmountCorrect].interpolate()\n"
   ],
   "outputs": [],
   "metadata": {}
  },
  {
   "cell_type": "code",
   "execution_count": 98,
   "source": [
    "vaccine_color = '#6F00D2'\n",
    "event_color = '#000000'\n",
    "plot_bgcolor = '#FFFFFF'\n",
    "# Create traces\n",
    "#fig = go.Figure(shared_xaxes=True,specs=[[{\"secondary_y\": True}]])\n",
    "#fig = make_subplots(rows=1, cols=1, shared_xaxes=True,specs=[[{\"secondary_y\": True}]])\n",
    "fig = make_subplots(shared_xaxes=True,specs=[[{\"secondary_y\": True}]])\n",
    "\n",
    "hovertemplate = '%{y:.2f}%<extra></extra>'\n",
    "ind = (~df[InjectedAmountCorrect].isnull()) & (df.index < (last_date + datetime.timedelta(days=-1)))\n",
    "ind = ind & ~(df[InjectedAmountCorrect]==0)\n",
    "x = df.index[ind]\n",
    "y = df[InjectedAmountCorrect][ind]/population_202104*100\n",
    "# data[0]\n",
    "fig.add_trace(\n",
    "    go.Scatter(\n",
    "        x=x, \n",
    "        y=y,\n",
    "        name=label_taiwan_vac,\n",
    "        mode='lines',\n",
    "        line=dict(color=vaccine_color, width=2, dash='dash'),\n",
    "        hovertemplate=hovertemplate,\n",
    "    ), secondary_y=True)\n",
    "fig.update_layout(hovermode=\"x\",hoverdistance=100)\n",
    "#fig.update_layout(hovermode=\"x unified\")\n",
    "#fig.update_layout(hovermode='closest')\n",
    "\n",
    "ind = (~df['累計第一劑_合計'].isnull())# & (df.index > datetime.datetime.fromisoformat('2021-06-20') )\n",
    "ind = ind & (df.index < (last_date + datetime.timedelta(days=-1)) )\n",
    "dd = df.index[ind]\n",
    "aa2 = df['累計第二劑_合計'][ind]/population_202104*100\n",
    "# data[1]\n",
    "fig.add_trace(\n",
    "    go.Scatter(\n",
    "        x=dd, \n",
    "        y=aa2,\n",
    "        name='第二劑接種(%)',\n",
    "        mode='lines',\n",
    "        line=dict(color='blue', width=1.5, dash='dot'),\n",
    "        hovertemplate=hovertemplate,\n",
    "    ), secondary_y=True)\n",
    "# data[2]\n",
    "fig.add_trace(\n",
    "    go.Scatter(\n",
    "        x=[dd[0],dd[-1]],\n",
    "        y=[aa2[0],aa2[-1]],\n",
    "        mode='markers',\n",
    "        marker={\"size\": 5, \"color\":'blue'},\n",
    "        showlegend=False,\n",
    "        hoverinfo='none',\n",
    "    ), secondary_y=True)\n",
    "\n",
    "#ax.plot(dd[0],aa2[0],'o',color='blue')\n",
    "#ax.plot(dd[-1],aa2[-1],'o',color='blue')\n",
    "\n",
    "###### Show Event #####\n",
    "#hovertemplate = '%{x}<br>%{text}<extra></extra>'\n",
    "hovertemplate = '%{text}<extra></extra>'\n",
    "ind = ~df[Event].isnull() & (df.index < (last_date + datetime.timedelta(days=-1)))\n",
    "x = df.index[ind]\n",
    "y = df.loc[ind,\"mavg\"]/population_202104*100\n",
    "label = df.loc[ind,Event]\n",
    "eventURL = df.loc[ind,'事件參考1']\n",
    "ind = eventURL.isnull()\n",
    "for i in eventURL.index[ind]:\n",
    "    text = label[i].replace(' / ','+')\n",
    "    if '#' in text:\n",
    "        text = text.replace('#','')\n",
    "        text = ''.join([i for i in text if not i.isdigit()])\n",
    "    text += '+{:%B+%d+%Y}'.format(i)\n",
    "    eventURL[i] = 'https://www.google.com/search?q=' +text#'https://www.google.com'\n",
    "\n",
    "label = label.to_numpy()\n",
    "eventURL = eventURL.to_numpy()\n",
    "# data[3]\n",
    "fig.add_trace(\n",
    "    go.Scatter(\n",
    "        x=x,\n",
    "        y=y,\n",
    "        name=Event,\n",
    "        mode='markers',\n",
    "        text=label,\n",
    "        customdata=eventURL,\n",
    "        marker={\"size\": 5, \"color\":event_color},\n",
    "        showlegend=False,\n",
    "        hovertemplate=hovertemplate,\n",
    "    ), secondary_y=True)\n",
    "\n",
    "\n",
    "##### Comfirmed #####\n",
    "barwidth = 86400 * 800\n",
    "#hovertemplate = 'Date=%{x}<br>Diff=%{y}<extra></extra>'\n",
    "hovertemplate = '%{text:d}人<extra></extra>'\n",
    "\n",
    "ind = ~ (df[DeathDaily] == 0) & ~ df[DeathDaily].isnull()\n",
    "death_color = 'red'\n",
    "# data[4]\n",
    "fig.add_trace(\n",
    "    go.Bar(\n",
    "        x=df.index[ind],y=df[DeathDaily][ind],\n",
    "        width=barwidth,\n",
    "        name=label_death,\n",
    "        text=df[DeathDaily][ind].astype(int),\n",
    "        marker_color=death_color,            \n",
    "        hovertemplate=hovertemplate,\n",
    "        texttemplate=' ',\n",
    "    ), secondary_y=False)\n",
    "\n",
    "ind = ~ (df[ConfirmedLocalDaily] == 0)  & ~ df[ConfirmedLocalDaily].isnull()\n",
    "confirmd_color = '#FFAD86'\n",
    "fig.add_trace(\n",
    "    go.Bar(\n",
    "        x=df.index[ind],y=(df[ConfirmedLocalDaily]-df[DeathDaily])[ind],\n",
    "        width=barwidth,\n",
    "        name=label_confirmed,\n",
    "        text=df[ConfirmedLocalDaily][ind].astype(int),\n",
    "        marker_color=confirmd_color,\n",
    "        hovertemplate=hovertemplate,\n",
    "        texttemplate=' ',\n",
    "    ), secondary_y=False)\n",
    "\n",
    "ind = ~ (df[FinalCorrectAmount] == 0 ) & ~ df[FinalCorrectAmount].isnull()\n",
    "correction_color = 'gold'\n",
    "fig.add_trace(\n",
    "    go.Bar(\n",
    "        x=df.index[ind],y=df[FinalCorrectAmount][ind],\n",
    "        width=barwidth,\n",
    "        name=label_correction,\n",
    "        text=df[FinalCorrectAmount][ind].astype(int),\n",
    "        marker_color=correction_color,\n",
    "        hovertemplate=hovertemplate,\n",
    "        texttemplate=' ',\n",
    "    ), secondary_y=False)\n",
    "\n",
    "fig.update_layout(barmode='stack')\n",
    "\n",
    "\n",
    "alpha_level1 = 0.2\n",
    "color_level1 = 'lightgreen'\n",
    "alpha_level2 = 0.2\n",
    "color_level2 = 'gold'\n",
    "alpha_level3 = 0.2\n",
    "color_level3 = 'orange'\n",
    "alpha_alert = 1\n",
    "color_alert = '#FFD2D2'\n",
    "alpha_vaccine = 1\n",
    "color_vaccine = '#D2E9FF'\n",
    "\n",
    "\n",
    "fig.add_vrect(\n",
    "    x0='2021-03-01', x1='2021-05-11',\n",
    "    fillcolor=color_level1, opacity=alpha_level1,\n",
    "    layer=\"below\", line_width=0,\n",
    "    name='first'\n",
    ")\n",
    "fig.add_vrect(\n",
    "    x0=\"2021-05-11\", x1=\"2021-05-19\",\n",
    "    fillcolor=color_level2, opacity=alpha_level2,\n",
    "    layer=\"below\", line_width=0,\n",
    ")\n",
    "fig.add_vrect(\n",
    "    x0=\"2021-05-19\", x1=last_date,\n",
    "    fillcolor=color_level3, opacity=alpha_level3,\n",
    "    layer=\"below\", line_width=0,\n",
    ")\n",
    "\n",
    "# infected dates\n",
    "dates_infected = ['2021-04-22','2021-04-29','2021-05-11','2021-05-12','2021-05-23',\n",
    "                  '2021-06-01','2021-06-23','2021-07-02','2021-07-13']\n",
    "dates_vaccine = ['2021-06-10','2021-07-19']\n",
    "\n",
    "# vaccine events\n",
    "ind = ~df[Event].isnull() & (df.index < (last_date + datetime.timedelta(days=-1)))\n",
    "for i in df[ind].index:\n",
    "    if '抵臺' in df.loc[i,Event]:\n",
    "        date0 = i - datetime.timedelta(hours=12)\n",
    "        date1 = i + datetime.timedelta(hours=12)\n",
    "        fig.add_vrect(\n",
    "            x0=date0, x1=date1,\n",
    "            fillcolor=color_vaccine, opacity=alpha_vaccine,\n",
    "            layer=\"below\", line_width=0,\n",
    "        )\n",
    "\n",
    "for d in dates_vaccine:\n",
    "    date0 = datetime.datetime.fromisoformat(d) - datetime.timedelta(hours=12)\n",
    "    date1 = datetime.datetime.fromisoformat(d) + datetime.timedelta(hours=12)\n",
    "    fig.add_vrect(\n",
    "        x0=date0, x1=date1,\n",
    "        fillcolor=color_vaccine, opacity=alpha_vaccine,\n",
    "        layer=\"below\", line_width=0,\n",
    "    )\n",
    "\n",
    "# infected events\n",
    "for d in dates_infected:\n",
    "    date0 = datetime.datetime.fromisoformat(d) - datetime.timedelta(hours=12)\n",
    "    date1 = datetime.datetime.fromisoformat(d) + datetime.timedelta(hours=12)\n",
    "    fig.add_vrect(\n",
    "        x0=date0, x1=date1,\n",
    "        fillcolor=color_alert, opacity=alpha_alert,\n",
    "        layer=\"below\", line_width=0,\n",
    "    )\n",
    "\n",
    "\n",
    "fig.update_layout(\n",
    "    plot_bgcolor=plot_bgcolor,\n",
    "    title={'text': title,'x':0.5,'xanchor': 'center'},\n",
    "    margin_l=0,\n",
    "    margin_r=0,\n",
    "    margin_t=50,\n",
    "    margin_b=0,\n",
    "    autosize=True)\n",
    "\n",
    "\n",
    "##### legend #####\n",
    "fig.update_layout(\n",
    "    legend_title=\"臺灣人口基數\",\n",
    "    legend=dict(\n",
    "        traceorder='normal',\n",
    "        yanchor=\"top\",\n",
    "        y=0.98,\n",
    "        xanchor=\"left\",\n",
    "        x=0.01,\n",
    "        bordercolor=\"darkgray\",\n",
    "        borderwidth=1,\n",
    "))\n",
    "\n",
    "# Primary yaxis\n",
    "fig.update_yaxes(\n",
    "    title_text=label_right,\n",
    "    range=(0,600),\n",
    "    secondary_y=False,\n",
    "    color=death_color,\n",
    "    showline=True,\n",
    "    linecolor=death_color,\n",
    "    ticks=\"outside\",\n",
    "    showgrid=True,\n",
    "    gridcolor='darkgray',\n",
    "\n",
    ")\n",
    "\n",
    "# Secondary yaxis\n",
    "fig.update_yaxes(\n",
    "    title_text=label_left,\n",
    "    range=(0,100), \n",
    "    secondary_y=True,\n",
    "    color=vaccine_color,\n",
    "    showgrid=False,\n",
    "    showline=True,\n",
    "    linecolor=vaccine_color,\n",
    "    ticks=\"outside\"\n",
    ")\n",
    "\n",
    "# \n",
    "fig.update_xaxes(\n",
    "    title_text=label_bottom,\n",
    "    range=('2021-03-01',last_date),\n",
    "    constrain='domain',\n",
    "    showline=True,\n",
    "    linecolor='black',\n",
    "    mirror=True,\n",
    "    ticks=\"outside\",\n",
    ")\n",
    "\n",
    "#fig.update_layout(dragmode='drawrect',\n",
    "                  # style of new shapes\n",
    "#                  newshape=dict(\n",
    "#                      fillcolor='blue',\n",
    "#                      line=dict(color='black', width=2, dash='dash'),\n",
    "#                      opacity=0.5))\n",
    "\n",
    "##### function #####\n",
    "\n",
    "\n",
    "#scatter.on_click(update_point)\n",
    "\n",
    "\n",
    "\n",
    "\n",
    "fig.update_layout(height=900)#,width=800)\n",
    "fig.show()\n",
    "#fig.show(config={'modeBarButtonsToAdd':['drawline',\n",
    "#                                        'drawopenpath',\n",
    "#                                        'drawclosedpath',\n",
    "#                                        'drawcircle',\n",
    "#                                        'drawrect',\n",
    "#                                        'eraseshape'\n",
    "#                                       ]})\n",
    "#fig.update_layout(height=900,width=1600)\n",
    "#pio.write_html(fig, file='_includes/figure.html', auto_open=False)"
   ],
   "outputs": [
    {
     "output_type": "display_data",
     "data": {
      "application/vnd.plotly.v1+json": {
       "config": {
        "plotlyServerURL": "https://plot.ly"
       },
       "data": [
        {
         "hovertemplate": "%{y:.2f}%<extra></extra>",
         "line": {
          "color": "#6F00D2",
          "dash": "dash",
          "width": 2
         },
         "mode": "lines",
         "name": "疫苗接種(劑/人口)",
         "type": "scatter",
         "x": [
          "2021-03-22T00:00:00",
          "2021-03-23T00:00:00",
          "2021-03-24T00:00:00",
          "2021-03-25T00:00:00",
          "2021-03-26T00:00:00",
          "2021-03-27T00:00:00",
          "2021-03-28T00:00:00",
          "2021-03-29T00:00:00",
          "2021-03-30T00:00:00",
          "2021-03-31T00:00:00",
          "2021-04-01T00:00:00",
          "2021-04-02T00:00:00",
          "2021-04-03T00:00:00",
          "2021-04-04T00:00:00",
          "2021-04-05T00:00:00",
          "2021-04-06T00:00:00",
          "2021-04-07T00:00:00",
          "2021-04-08T00:00:00",
          "2021-04-09T00:00:00",
          "2021-04-10T00:00:00",
          "2021-04-11T00:00:00",
          "2021-04-12T00:00:00",
          "2021-04-13T00:00:00",
          "2021-04-14T00:00:00",
          "2021-04-15T00:00:00",
          "2021-04-16T00:00:00",
          "2021-04-17T00:00:00",
          "2021-04-18T00:00:00",
          "2021-04-19T00:00:00",
          "2021-04-20T00:00:00",
          "2021-04-21T00:00:00",
          "2021-04-22T00:00:00",
          "2021-04-23T00:00:00",
          "2021-04-24T00:00:00",
          "2021-04-25T00:00:00",
          "2021-04-26T00:00:00",
          "2021-04-27T00:00:00",
          "2021-04-28T00:00:00",
          "2021-04-29T00:00:00",
          "2021-04-30T00:00:00",
          "2021-05-02T00:00:00",
          "2021-05-03T00:00:00",
          "2021-05-04T00:00:00",
          "2021-05-05T00:00:00",
          "2021-05-06T00:00:00",
          "2021-05-07T00:00:00",
          "2021-05-09T00:00:00",
          "2021-05-10T00:00:00",
          "2021-05-11T00:00:00",
          "2021-05-12T00:00:00",
          "2021-05-13T00:00:00",
          "2021-05-14T00:00:00",
          "2021-05-16T00:00:00",
          "2021-05-17T00:00:00",
          "2021-05-18T00:00:00",
          "2021-05-19T00:00:00",
          "2021-05-20T00:00:00",
          "2021-05-21T00:00:00",
          "2021-05-23T00:00:00",
          "2021-05-24T00:00:00",
          "2021-05-25T00:00:00",
          "2021-05-26T00:00:00",
          "2021-05-27T00:00:00",
          "2021-05-28T00:00:00",
          "2021-05-30T00:00:00",
          "2021-05-31T00:00:00",
          "2021-06-01T00:00:00",
          "2021-06-02T00:00:00",
          "2021-06-03T00:00:00",
          "2021-06-04T00:00:00",
          "2021-06-06T00:00:00",
          "2021-06-07T00:00:00",
          "2021-06-08T00:00:00",
          "2021-06-09T00:00:00",
          "2021-06-10T00:00:00",
          "2021-06-11T00:00:00",
          "2021-06-14T00:00:00",
          "2021-06-15T00:00:00",
          "2021-06-16T00:00:00",
          "2021-06-17T00:00:00",
          "2021-06-18T00:00:00",
          "2021-06-20T00:00:00",
          "2021-06-21T00:00:00",
          "2021-06-22T00:00:00",
          "2021-06-23T00:00:00",
          "2021-06-24T00:00:00",
          "2021-06-25T00:00:00",
          "2021-06-27T00:00:00",
          "2021-06-28T00:00:00",
          "2021-06-29T00:00:00",
          "2021-06-30T00:00:00",
          "2021-07-01T00:00:00",
          "2021-07-02T00:00:00",
          "2021-07-04T00:00:00",
          "2021-07-05T00:00:00",
          "2021-07-06T00:00:00",
          "2021-07-07T00:00:00",
          "2021-07-08T00:00:00",
          "2021-07-09T00:00:00",
          "2021-07-11T00:00:00",
          "2021-07-12T00:00:00",
          "2021-07-13T00:00:00",
          "2021-07-14T00:00:00",
          "2021-07-15T00:00:00",
          "2021-07-16T00:00:00",
          "2021-07-18T00:00:00",
          "2021-07-19T00:00:00"
         ],
         "xaxis": "x",
         "y": [
          0.006710839698707964,
          0.013676844404971364,
          0.021982465400900802,
          0.030177514893556218,
          0.03926138916252973,
          0.04002688418519604,
          0.04002688418519604,
          0.04626992137005237,
          0.05360591533727115,
          0.061239601813304616,
          0.06995773957144867,
          0.07253490614775858,
          0.0726284666505289,
          0.0733386759215582,
          0.0733386759215582,
          0.07934355909936279,
          0.08537395877792292,
          0.09273972199602318,
          0.10397974057884012,
          0.10483879610427675,
          0.10504718086044704,
          0.11006967875916318,
          0.11530481416417554,
          0.12105453233442469,
          0.127748361032629,
          0.1377423238285502,
          0.13800174158623155,
          0.1381846098416463,
          0.14205886520636302,
          0.14543129605622068,
          0.1562077648753119,
          0.16679711268886252,
          0.18083969360466334,
          0.181473353373426,
          0.18234941989936632,
          0.19301956996530945,
          0.20489750106701504,
          0.21674141016771314,
          0.2304522765736919,
          0.24616618828898085,
          0.24773120033532084,
          0.2655289596123125,
          0.2888935688041386,
          0.31409961880048975,
          0.3450766507177196,
          0.38703003070995917,
          0.39146139634117194,
          0.43176045653442713,
          0.478617257421857,
          0.482640359040981,
          0.5514498560784302,
          0.7916451831906139,
          0.8279168890146191,
          0.93710199574759,
          1.0419578028523704,
          1.125230903068087,
          1.1977743147160975,
          1.2751616087575353,
          1.287298957616922,
          1.325488653747719,
          1.3594553690034734,
          1.3831942202063807,
          1.4261895239794717,
          1.608717559384127,
          1.8173362168113254,
          1.9869614083339273,
          2.151347211701391,
          2.4095486828467365,
          2.654277441593155,
          2.9002990363778545,
          3.023735108782797,
          3.1059152522161506,
          3.176795838564925,
          3.2449248955822263,
          3.33182133890523,
          3.403646035781959,
          3.6549920737243156,
          4.41458427921584,
          5.121455141396287,
          5.720157304123858,
          6.079365843510023,
          6.666487767644703,
          6.944171087116906,
          7.200169633697024,
          7.46461839477735,
          7.831524411891438,
          8.116688318835141,
          8.228952416659281,
          8.371619425133652,
          8.535554436987768,
          8.700395284618704,
          8.905024862427787,
          9.790353878142378,
          10.819838364875414,
          11.242225760132305,
          11.724343030907797,
          12.380529617087483,
          13.336084295631457,
          14.387325852008717,
          15.301144040816874,
          16.337824180762976,
          17.46283819357464,
          18.5435428028243,
          19.71849686036469,
          21.138728281417745,
          22.232135855293542,
          23.049854649506194
         ],
         "yaxis": "y2"
        },
        {
         "hovertemplate": "%{y:.2f}%<extra></extra>",
         "line": {
          "color": "blue",
          "dash": "dot",
          "width": 1.5
         },
         "mode": "lines",
         "name": "第二劑接種(%)",
         "type": "scatter",
         "x": [
          "2021-05-31T00:00:00",
          "2021-06-07T00:00:00",
          "2021-06-15T00:00:00",
          "2021-06-21T00:00:00",
          "2021-06-22T00:00:00",
          "2021-06-23T00:00:00",
          "2021-06-24T00:00:00",
          "2021-06-25T00:00:00",
          "2021-06-27T00:00:00",
          "2021-06-28T00:00:00",
          "2021-06-29T00:00:00",
          "2021-06-30T00:00:00",
          "2021-07-01T00:00:00",
          "2021-07-02T00:00:00",
          "2021-07-04T00:00:00",
          "2021-07-05T00:00:00",
          "2021-07-06T00:00:00",
          "2021-07-07T00:00:00",
          "2021-07-08T00:00:00",
          "2021-07-09T00:00:00",
          "2021-07-11T00:00:00",
          "2021-07-12T00:00:00",
          "2021-07-13T00:00:00",
          "2021-07-14T00:00:00",
          "2021-07-15T00:00:00",
          "2021-07-16T00:00:00",
          "2021-07-18T00:00:00",
          "2021-07-19T00:00:00"
         ],
         "xaxis": "x",
         "y": [
          0.04846859318515505,
          0.09006474216681702,
          0.10238921203174457,
          0.12249196187698698,
          0.12632368974044447,
          0.1355011245121883,
          0.14239057971618507,
          0.15466826932972746,
          0.15599512736901572,
          0.16168955978762786,
          0.16877889424754305,
          0.17776495526362035,
          0.18433970695829874,
          0.19644728656680416,
          0.19758702360055178,
          0.20303479651186032,
          0.21040055972996055,
          0.22260595259136223,
          0.2344838836930678,
          0.3075631418569446,
          0.3129301125158606,
          0.3353676221802353,
          0.3650050378077992,
          0.40484905373758046,
          0.4570132867821634,
          0.5345834490790159,
          0.5532827913827034,
          0.5972137001834976
         ],
         "yaxis": "y2"
        },
        {
         "hoverinfo": "none",
         "marker": {
          "color": "blue",
          "size": 5
         },
         "mode": "markers",
         "showlegend": false,
         "type": "scatter",
         "x": [
          "2021-05-31T00:00:00",
          "2021-07-19T00:00:00"
         ],
         "xaxis": "x",
         "y": [
          0.04846859318515505,
          0.5972137001834976
         ],
         "yaxis": "y2"
        },
        {
         "customdata": [
          "https://www.google.com/search?q=AZ自購萬劑抵臺+March+03+2021",
          "https://www.google.com/search?q=AZ封緘+March+18+2021",
          "https://www.google.com/search?q=開始疫苗接種+AZ開打+March+22+2021",
          "https://www.google.com/search?q=AZ自購萬劑抵臺+April+04+2021",
          "https://www.google.com/search?q=AZ擴大施打+AZ封緘+April+12+2021",
          "https://www.google.com/search?q=AZ自費開打+April+21+2021",
          "https://www.google.com/search?q=美國將台灣列為旅遊警示3級+April+22+2021",
          "https://www.google.com/search?q=桃園諾富特防疫旅館員工確診+April+29+2021",
          "https://www.google.com/search?q=公費疫苗開放1至3類對象同住者+May+03+2021",
          "https://www.google.com/search?q=疫苗擴大開放軍人及65歲以上長者+May+10+2021",
          "https://www.google.com/search?q=全國疫情警戒升第二級+五股獅子前會長+宜蘭電子遊藝場5人確診+May+11+2021",
          "https://www.google.com/search?q=臺北萬華茶室2員工確診+May+12+2021",
          "https://www.google.com/search?q=雙北疫情警戒升第三級+停止自費疫苗預約+May+15+2021",
          "https://www.google.com/search?q=AZ自購萬劑抵臺+全國疫情警戒升第三級+May+19+2021",
          "https://www.google.com/search?q=臺北信義長照機構群聚感染+May+23+2021",
          "https://www.google.com/search?q=AZ封緘+May+26+2021",
          "https://www.google.com/search?q=AZ配送+May+27+2021",
          "https://www.google.com/search?q=莫德納自購萬劑抵臺+AZ開打+簽約國產一千萬劑+May+28+2021",
          "https://www.google.com/search?q=政府公告已採購兩千萬國外、一千萬國產疫苗+May+30+2021",
          "https://www.google.com/search?q=苗栗電子業移工宿舍群聚感染+June+01+2021",
          "https://www.google.com/search?q=日本AZ援助一百萬劑抵臺+June+04+2021",
          "https://www.google.com/search?q=政府公布公費疫苗施打免掛號費+June+05+2021",
          "https://www.google.com/search?q=美國議員搭軍機訪臺宣布援助疫苗75萬劑+June+06+2021",
          "https://www.google.com/search?q=開始公費疫苗接種免掛號費+莫德納封緘+June+07+2021",
          "https://www.google.com/search?q=莫德納開打+臺北好心肝違法施打疫苗+June+09+2021",
          "https://www.google.com/search?q=高端二期臨床實驗解盲成功+June+10+2021",
          "https://www.google.com/search?q=AZ封緘+配送+June+11+2021",
          "https://www.ptt.cc/bbs/Gossiping/M.1623851372.A.53B.html",
          "https://www.google.com/search?q=AZ開打+疫苗擴大接種至歲以上長者+June+15+2021",
          "https://www.google.com/search?q=AZ第二次配送+June+17+2021",
          "https://www.ptt.cc/bbs/Gossiping/M.1623997930.A.C53.html",
          "https://www.cna.com.tw/news/ahel/202106210202.aspx",
          "https://www.ptt.cc/bbs/nCoV2019/M.1624338354.A.4EA.html",
          "https://www.ptt.cc/bbs/Gossiping/M.1624353131.A.6A2.html",
          "https://www.ptt.cc/bbs/Gossiping/M.1624442179.A.EAD.html",
          "https://www.ptt.cc/bbs/nCoV2019/M.1624588136.A.573.html",
          "https://www.ptt.cc/bbs/nCoV2019/M.1624698667.A.EE7.html",
          "https://www.cdc.gov.tw/Bulletin/Detail/pYQ-ddE0kOM_t_QJfc8xjw?typeid=9",
          "https://www.ptt.cc/bbs/nCoV2019/M.1624698667.A.EE7.html",
          "https://www.ptt.cc/bbs/Gossiping/M.1625266516.A.3AA.html",
          "https://www.ptt.cc/bbs/nCoV2019/M.1625193085.A.C0E.html",
          "https://www.ptt.cc/bbs/Gossiping/M.1625488302.A.C95.html",
          "https://www.ptt.cc/bbs/Gossiping/M.1625537692.A.FDE.html",
          "https://www.ptt.cc/bbs/nCoV2019/M.1626153834.A.789.htm",
          "https://www.cna.com.tw/news/firstnews/202107145009.aspx",
          "https://www.cdc.gov.tw/Bulletin/Detail/TRxFQmh7DNXlnYJdF8qV-A?typeid=9",
          "https://news.ltn.com.tw/news/life/breakingnews/3606195",
          "https://www.cdc.gov.tw/Bulletin/Detail/gzkfXTnBuktqDJ3BXhI54w?typeid=9"
         ],
         "hovertemplate": "%{text}<extra></extra>",
         "marker": {
          "color": "#000000",
          "size": 5
         },
         "mode": "markers",
         "name": "事件",
         "showlegend": false,
         "text": [
          "AZ#1自購12萬劑抵臺",
          "AZ#1封緘",
          "開始疫苗接種 / AZ#1開打",
          "AZ#2自購20萬劑抵臺",
          "AZ擴大施打 / AZ#2封緘",
          "AZ自費開打",
          "美國將台灣列為旅遊警示3級",
          "桃園諾富特防疫旅館員工確診",
          "公費疫苗開放1至3類對象同住者",
          "疫苗擴大開放軍人及65歲以上長者",
          "全國疫情警戒升第二級 / 五股獅子前會長 / 宜蘭電子遊藝場5人確診",
          "臺北萬華茶室2員工確診",
          "雙北疫情警戒升第三級 / 停止自費疫苗預約",
          "AZ#3自購41萬劑抵臺 / 全國疫情警戒升第三級",
          "臺北信義長照機構群聚感染",
          "AZ#3封緘",
          "AZ#3配送",
          "莫德納#1自購15萬劑抵臺 / AZ#3開打 / 簽約國產一千萬劑",
          "政府公告已採購兩千萬國外、一千萬國產疫苗",
          "苗栗電子業移工宿舍群聚感染",
          "日本AZ#4援助一百24萬劑抵臺",
          "政府公布公費疫苗施打免掛號費",
          "美國議員搭軍機訪臺宣布援助疫苗75萬劑",
          "開始公費疫苗接種免掛號費 / 莫德納#1封緘",
          "莫德納#1開打 / 臺北好心肝違法施打疫苗",
          "高端二期臨床實驗解盲成功",
          "AZ#4封緘 / 配送",
          "臺南地檢署於指揮中心公告兩天前逕行施打疫苗",
          "AZ#4開打 / 疫苗擴大接種至75歲以上長者",
          "AZ#4第二次配送",
          "莫德納#2自購24萬劑抵臺 / 莫德納#1第二次配送 / 政府授權台積電與鴻海購買輝瑞疫苗",
          "美國莫德納#3援助兩百50萬劑抵臺 / 高雄2名未滿18歲護專生施打AZ疫苗",
          "孕婦列入第6類疫苗施打對象",
          "立陶宛宣布援助臺灣AZ疫苗2萬劑",
          "屏東發現δ變異株傳染鏈",
          "莫德納#2封緘 / 開放18歲以上成人預約候補接種每日最後一瓶殘劑",
          "莫德納#3封緘 / 公布莫德納需求分配表",
          "莫德納#4自購41萬劑抵臺",
          "莫德納#2#3第一次配送 /  疫苗擴大接種至第7、8類",
          "台積電、鴻海與上海復星簽署法律文件 / 臺北環南市場群聚感染",
          "莫德納#3第二次配送",
          "AZ#5自購62萬劑抵臺 / 莫德納#4封緘",
          "日本AZ#6援助一百13萬劑抵臺",
          "全臺微解封 / 臺北發現3例δ變異株感染者",
          "AZ#5封緘",
          "日本AZ#7援助97萬劑、AZ#8自購56萬劑、莫德納#5自購35萬劑抵臺 / 斯洛伐克宣布援助臺灣疫苗1萬劑 / AZ#6封緘",
          "疫苗擴大接種至第9、10類",
          "高端疫苗通過緊急授權"
         ],
         "type": "scatter",
         "x": [
          "2021-03-03T00:00:00",
          "2021-03-18T00:00:00",
          "2021-03-22T00:00:00",
          "2021-04-04T00:00:00",
          "2021-04-12T00:00:00",
          "2021-04-21T00:00:00",
          "2021-04-22T00:00:00",
          "2021-04-29T00:00:00",
          "2021-05-03T00:00:00",
          "2021-05-10T00:00:00",
          "2021-05-11T00:00:00",
          "2021-05-12T00:00:00",
          "2021-05-15T00:00:00",
          "2021-05-19T00:00:00",
          "2021-05-23T00:00:00",
          "2021-05-26T00:00:00",
          "2021-05-27T00:00:00",
          "2021-05-28T00:00:00",
          "2021-05-30T00:00:00",
          "2021-06-01T00:00:00",
          "2021-06-04T00:00:00",
          "2021-06-05T00:00:00",
          "2021-06-06T00:00:00",
          "2021-06-07T00:00:00",
          "2021-06-09T00:00:00",
          "2021-06-10T00:00:00",
          "2021-06-11T00:00:00",
          "2021-06-13T00:00:00",
          "2021-06-15T00:00:00",
          "2021-06-17T00:00:00",
          "2021-06-18T00:00:00",
          "2021-06-20T00:00:00",
          "2021-06-21T00:00:00",
          "2021-06-22T00:00:00",
          "2021-06-23T00:00:00",
          "2021-06-25T00:00:00",
          "2021-06-26T00:00:00",
          "2021-06-30T00:00:00",
          "2021-07-01T00:00:00",
          "2021-07-02T00:00:00",
          "2021-07-05T00:00:00",
          "2021-07-07T00:00:00",
          "2021-07-08T00:00:00",
          "2021-07-13T00:00:00",
          "2021-07-14T00:00:00",
          "2021-07-15T00:00:00",
          "2021-07-16T00:00:00",
          "2021-07-19T00:00:00"
         ],
         "xaxis": "x",
         "y": [
          0,
          0,
          0.006710839698707964,
          0.0733386759215582,
          0.11006967875916318,
          0.1562077648753119,
          0.16679711268886252,
          0.2304522765736919,
          0.2655289596123125,
          0.43176045653442713,
          0.478617257421857,
          0.482640359040981,
          0.8097810361026164,
          1.125230903068087,
          1.287298957616922,
          1.3831942202063807,
          1.4261895239794717,
          1.608717559384127,
          1.8173362168113254,
          2.151347211701391,
          2.9002990363778545,
          2.9620170725803256,
          3.023735108782797,
          3.1059152522161506,
          3.2449248955822263,
          3.33182133890523,
          3.403646035781959,
          3.5712100610768633,
          4.41458427921584,
          5.720157304123858,
          6.079365843510023,
          6.666487767644703,
          6.944171087116906,
          7.200169633697024,
          7.46461839477735,
          8.116688318835141,
          8.17282036774721,
          8.700395284618704,
          8.905024862427787,
          9.790353878142378,
          11.242225760132305,
          12.380529617087483,
          13.336084295631457,
          17.46283819357464,
          18.5435428028243,
          19.71849686036469,
          21.138728281417745,
          23.049854649506194
         ],
         "yaxis": "y2"
        },
        {
         "hovertemplate": "%{text:d}人<extra></extra>",
         "marker": {
          "color": "red"
         },
         "name": "新增死亡(人)",
         "text": [
          "1",
          "1",
          "1",
          "2",
          "1",
          "2",
          "6",
          "6",
          "6",
          "11",
          "13",
          "19",
          "21",
          "10",
          "15",
          "13",
          "12",
          "17",
          "21",
          "37",
          "36",
          "26",
          "22",
          "25",
          "28",
          "24",
          "26",
          "26",
          "15",
          "8",
          "18",
          "19",
          "21",
          "20",
          "11",
          "20",
          "6",
          "24",
          "6",
          "5",
          "13",
          "9",
          "3",
          "8",
          "5",
          "13",
          "15",
          "10",
          "2",
          "1",
          "17",
          "9",
          "3",
          "12",
          "6",
          "4",
          "1",
          "6",
          "6",
          "6",
          "4",
          "1",
          "4",
          "1",
          "4"
         ],
         "texttemplate": " ",
         "type": "bar",
         "width": 69120000,
         "x": [
          "2021-03-05T00:00:00",
          "2021-04-10T00:00:00",
          "2021-04-23T00:00:00",
          "2021-05-17T00:00:00",
          "2021-05-19T00:00:00",
          "2021-05-21T00:00:00",
          "2021-05-22T00:00:00",
          "2021-05-23T00:00:00",
          "2021-05-24T00:00:00",
          "2021-05-25T00:00:00",
          "2021-05-26T00:00:00",
          "2021-05-27T00:00:00",
          "2021-05-28T00:00:00",
          "2021-05-29T00:00:00",
          "2021-05-30T00:00:00",
          "2021-05-31T00:00:00",
          "2021-06-01T00:00:00",
          "2021-06-02T00:00:00",
          "2021-06-03T00:00:00",
          "2021-06-04T00:00:00",
          "2021-06-05T00:00:00",
          "2021-06-06T00:00:00",
          "2021-06-07T00:00:00",
          "2021-06-08T00:00:00",
          "2021-06-09T00:00:00",
          "2021-06-10T00:00:00",
          "2021-06-11T00:00:00",
          "2021-06-12T00:00:00",
          "2021-06-13T00:00:00",
          "2021-06-14T00:00:00",
          "2021-06-15T00:00:00",
          "2021-06-16T00:00:00",
          "2021-06-17T00:00:00",
          "2021-06-18T00:00:00",
          "2021-06-19T00:00:00",
          "2021-06-20T00:00:00",
          "2021-06-21T00:00:00",
          "2021-06-22T00:00:00",
          "2021-06-23T00:00:00",
          "2021-06-24T00:00:00",
          "2021-06-25T00:00:00",
          "2021-06-26T00:00:00",
          "2021-06-27T00:00:00",
          "2021-06-28T00:00:00",
          "2021-06-29T00:00:00",
          "2021-06-30T00:00:00",
          "2021-07-01T00:00:00",
          "2021-07-02T00:00:00",
          "2021-07-03T00:00:00",
          "2021-07-04T00:00:00",
          "2021-07-05T00:00:00",
          "2021-07-06T00:00:00",
          "2021-07-07T00:00:00",
          "2021-07-08T00:00:00",
          "2021-07-09T00:00:00",
          "2021-07-10T00:00:00",
          "2021-07-11T00:00:00",
          "2021-07-12T00:00:00",
          "2021-07-13T00:00:00",
          "2021-07-14T00:00:00",
          "2021-07-15T00:00:00",
          "2021-07-16T00:00:00",
          "2021-07-17T00:00:00",
          "2021-07-18T00:00:00",
          "2021-07-19T00:00:00"
         ],
         "xaxis": "x",
         "y": [
          1,
          1,
          1,
          2,
          1,
          2,
          6,
          6,
          6,
          11,
          13,
          19,
          21,
          10,
          15,
          13,
          12,
          17,
          21,
          37,
          36,
          26,
          22,
          25,
          28,
          24,
          26,
          26,
          15,
          8,
          18,
          19,
          21,
          20,
          11,
          20,
          6,
          24,
          6,
          5,
          13,
          9,
          3,
          8,
          5,
          13,
          15,
          10,
          2,
          1,
          17,
          9,
          3,
          12,
          6,
          4,
          1,
          6,
          6,
          6,
          4,
          1,
          4,
          1,
          4
         ],
         "yaxis": "y"
        },
        {
         "hovertemplate": "%{text:d}人<extra></extra>",
         "marker": {
          "color": "#FFAD86"
         },
         "name": "新增本土確診(人)",
         "text": [
          "1",
          "1",
          "3",
          "2",
          "3",
          "1",
          "4",
          "2",
          "1",
          "1",
          "3",
          "7",
          "16",
          "13",
          "29",
          "180",
          "206",
          "333",
          "240",
          "267",
          "286",
          "312",
          "321",
          "287",
          "334",
          "281",
          "302",
          "401",
          "297",
          "320",
          "266",
          "274",
          "262",
          "372",
          "366",
          "339",
          "476",
          "335",
          "211",
          "219",
          "274",
          "263",
          "286",
          "250",
          "174",
          "185",
          "132",
          "167",
          "175",
          "187",
          "127",
          "107",
          "75",
          "78",
          "104",
          "129",
          "76",
          "78",
          "88",
          "60",
          "54",
          "55",
          "47",
          "57",
          "76",
          "37",
          "28",
          "27",
          "39",
          "18",
          "32",
          "31",
          "28",
          "23",
          "28",
          "17",
          "14",
          "29",
          "8",
          "15",
          "15",
          "18"
         ],
         "texttemplate": " ",
         "type": "bar",
         "width": 69120000,
         "x": [
          "2021-04-23T00:00:00",
          "2021-04-26T00:00:00",
          "2021-04-27T00:00:00",
          "2021-04-28T00:00:00",
          "2021-04-29T00:00:00",
          "2021-04-30T00:00:00",
          "2021-05-01T00:00:00",
          "2021-05-02T00:00:00",
          "2021-05-05T00:00:00",
          "2021-05-07T00:00:00",
          "2021-05-09T00:00:00",
          "2021-05-10T00:00:00",
          "2021-05-11T00:00:00",
          "2021-05-12T00:00:00",
          "2021-05-13T00:00:00",
          "2021-05-14T00:00:00",
          "2021-05-15T00:00:00",
          "2021-05-16T00:00:00",
          "2021-05-17T00:00:00",
          "2021-05-18T00:00:00",
          "2021-05-19T00:00:00",
          "2021-05-20T00:00:00",
          "2021-05-21T00:00:00",
          "2021-05-22T00:00:00",
          "2021-05-23T00:00:00",
          "2021-05-24T00:00:00",
          "2021-05-25T00:00:00",
          "2021-05-26T00:00:00",
          "2021-05-27T00:00:00",
          "2021-05-28T00:00:00",
          "2021-05-29T00:00:00",
          "2021-05-30T00:00:00",
          "2021-05-31T00:00:00",
          "2021-06-01T00:00:00",
          "2021-06-02T00:00:00",
          "2021-06-03T00:00:00",
          "2021-06-04T00:00:00",
          "2021-06-05T00:00:00",
          "2021-06-06T00:00:00",
          "2021-06-07T00:00:00",
          "2021-06-08T00:00:00",
          "2021-06-09T00:00:00",
          "2021-06-10T00:00:00",
          "2021-06-11T00:00:00",
          "2021-06-12T00:00:00",
          "2021-06-13T00:00:00",
          "2021-06-14T00:00:00",
          "2021-06-15T00:00:00",
          "2021-06-16T00:00:00",
          "2021-06-17T00:00:00",
          "2021-06-18T00:00:00",
          "2021-06-19T00:00:00",
          "2021-06-20T00:00:00",
          "2021-06-21T00:00:00",
          "2021-06-22T00:00:00",
          "2021-06-23T00:00:00",
          "2021-06-24T00:00:00",
          "2021-06-25T00:00:00",
          "2021-06-26T00:00:00",
          "2021-06-27T00:00:00",
          "2021-06-28T00:00:00",
          "2021-06-29T00:00:00",
          "2021-06-30T00:00:00",
          "2021-07-01T00:00:00",
          "2021-07-02T00:00:00",
          "2021-07-03T00:00:00",
          "2021-07-04T00:00:00",
          "2021-07-05T00:00:00",
          "2021-07-06T00:00:00",
          "2021-07-07T00:00:00",
          "2021-07-08T00:00:00",
          "2021-07-09T00:00:00",
          "2021-07-10T00:00:00",
          "2021-07-11T00:00:00",
          "2021-07-12T00:00:00",
          "2021-07-13T00:00:00",
          "2021-07-14T00:00:00",
          "2021-07-15T00:00:00",
          "2021-07-16T00:00:00",
          "2021-07-17T00:00:00",
          "2021-07-18T00:00:00",
          "2021-07-19T00:00:00"
         ],
         "xaxis": "x",
         "y": [
          0,
          1,
          3,
          2,
          3,
          1,
          4,
          2,
          1,
          1,
          3,
          7,
          16,
          13,
          29,
          180,
          206,
          333,
          238,
          267,
          285,
          312,
          319,
          281,
          328,
          275,
          291,
          388,
          278,
          299,
          256,
          259,
          249,
          360,
          349,
          318,
          439,
          299,
          185,
          197,
          249,
          235,
          262,
          224,
          148,
          170,
          124,
          149,
          156,
          166,
          107,
          96,
          55,
          72,
          80,
          123,
          71,
          65,
          79,
          57,
          46,
          50,
          34,
          42,
          66,
          35,
          27,
          10,
          30,
          15,
          20,
          25,
          24,
          22,
          22,
          11,
          8,
          25,
          7,
          11,
          14,
          14
         ],
         "yaxis": "y"
        },
        {
         "hovertemplate": "%{text:d}人<extra></extra>",
         "marker": {
          "color": "gold"
         },
         "name": "累計校正回歸(人)",
         "text": [
          "78",
          "202",
          "216",
          "260",
          "188",
          "120",
          "152",
          "204",
          "168",
          "218",
          "230",
          "128",
          "118",
          "95",
          "159",
          "121",
          "70",
          "116",
          "52",
          "6"
         ],
         "texttemplate": " ",
         "type": "bar",
         "width": 69120000,
         "x": [
          "2021-05-15T00:00:00",
          "2021-05-16T00:00:00",
          "2021-05-17T00:00:00",
          "2021-05-18T00:00:00",
          "2021-05-19T00:00:00",
          "2021-05-20T00:00:00",
          "2021-05-21T00:00:00",
          "2021-05-22T00:00:00",
          "2021-05-23T00:00:00",
          "2021-05-24T00:00:00",
          "2021-05-25T00:00:00",
          "2021-05-26T00:00:00",
          "2021-05-27T00:00:00",
          "2021-05-28T00:00:00",
          "2021-05-29T00:00:00",
          "2021-05-30T00:00:00",
          "2021-05-31T00:00:00",
          "2021-06-01T00:00:00",
          "2021-06-02T00:00:00",
          "2021-06-03T00:00:00"
         ],
         "xaxis": "x",
         "y": [
          78,
          202,
          216,
          260,
          188,
          120,
          152,
          204,
          168,
          218,
          230,
          128,
          118,
          95,
          159,
          121,
          70,
          116,
          52,
          6
         ],
         "yaxis": "y"
        }
       ],
       "layout": {
        "autosize": true,
        "barmode": "stack",
        "height": 900,
        "hoverdistance": 100,
        "hovermode": "x",
        "legend": {
         "bordercolor": "darkgray",
         "borderwidth": 1,
         "title": {
          "text": "臺灣人口基數"
         },
         "traceorder": "normal",
         "x": 0.01,
         "xanchor": "left",
         "y": 0.98,
         "yanchor": "top"
        },
        "margin": {
         "b": 0,
         "l": 0,
         "r": 0,
         "t": 50
        },
        "plot_bgcolor": "#FFFFFF",
        "shapes": [
         {
          "fillcolor": "lightgreen",
          "layer": "below",
          "line": {
           "width": 0
          },
          "name": "first",
          "opacity": 0.2,
          "type": "rect",
          "x0": "2021-03-01",
          "x1": "2021-05-11",
          "xref": "x",
          "y0": 0,
          "y1": 1,
          "yref": "y domain"
         },
         {
          "fillcolor": "gold",
          "layer": "below",
          "line": {
           "width": 0
          },
          "opacity": 0.2,
          "type": "rect",
          "x0": "2021-05-11",
          "x1": "2021-05-19",
          "xref": "x",
          "y0": 0,
          "y1": 1,
          "yref": "y domain"
         },
         {
          "fillcolor": "orange",
          "layer": "below",
          "line": {
           "width": 0
          },
          "opacity": 0.2,
          "type": "rect",
          "x0": "2021-05-19",
          "x1": "2021-07-21T00:00:00",
          "xref": "x",
          "y0": 0,
          "y1": 1,
          "yref": "y domain"
         },
         {
          "fillcolor": "#D2E9FF",
          "layer": "below",
          "line": {
           "width": 0
          },
          "opacity": 1,
          "type": "rect",
          "x0": "2021-03-02T12:00:00",
          "x1": "2021-03-03T12:00:00",
          "xref": "x",
          "y0": 0,
          "y1": 1,
          "yref": "y domain"
         },
         {
          "fillcolor": "#D2E9FF",
          "layer": "below",
          "line": {
           "width": 0
          },
          "opacity": 1,
          "type": "rect",
          "x0": "2021-04-03T12:00:00",
          "x1": "2021-04-04T12:00:00",
          "xref": "x",
          "y0": 0,
          "y1": 1,
          "yref": "y domain"
         },
         {
          "fillcolor": "#D2E9FF",
          "layer": "below",
          "line": {
           "width": 0
          },
          "opacity": 1,
          "type": "rect",
          "x0": "2021-05-18T12:00:00",
          "x1": "2021-05-19T12:00:00",
          "xref": "x",
          "y0": 0,
          "y1": 1,
          "yref": "y domain"
         },
         {
          "fillcolor": "#D2E9FF",
          "layer": "below",
          "line": {
           "width": 0
          },
          "opacity": 1,
          "type": "rect",
          "x0": "2021-05-27T12:00:00",
          "x1": "2021-05-28T12:00:00",
          "xref": "x",
          "y0": 0,
          "y1": 1,
          "yref": "y domain"
         },
         {
          "fillcolor": "#D2E9FF",
          "layer": "below",
          "line": {
           "width": 0
          },
          "opacity": 1,
          "type": "rect",
          "x0": "2021-06-03T12:00:00",
          "x1": "2021-06-04T12:00:00",
          "xref": "x",
          "y0": 0,
          "y1": 1,
          "yref": "y domain"
         },
         {
          "fillcolor": "#D2E9FF",
          "layer": "below",
          "line": {
           "width": 0
          },
          "opacity": 1,
          "type": "rect",
          "x0": "2021-06-17T12:00:00",
          "x1": "2021-06-18T12:00:00",
          "xref": "x",
          "y0": 0,
          "y1": 1,
          "yref": "y domain"
         },
         {
          "fillcolor": "#D2E9FF",
          "layer": "below",
          "line": {
           "width": 0
          },
          "opacity": 1,
          "type": "rect",
          "x0": "2021-06-19T12:00:00",
          "x1": "2021-06-20T12:00:00",
          "xref": "x",
          "y0": 0,
          "y1": 1,
          "yref": "y domain"
         },
         {
          "fillcolor": "#D2E9FF",
          "layer": "below",
          "line": {
           "width": 0
          },
          "opacity": 1,
          "type": "rect",
          "x0": "2021-06-29T12:00:00",
          "x1": "2021-06-30T12:00:00",
          "xref": "x",
          "y0": 0,
          "y1": 1,
          "yref": "y domain"
         },
         {
          "fillcolor": "#D2E9FF",
          "layer": "below",
          "line": {
           "width": 0
          },
          "opacity": 1,
          "type": "rect",
          "x0": "2021-07-06T12:00:00",
          "x1": "2021-07-07T12:00:00",
          "xref": "x",
          "y0": 0,
          "y1": 1,
          "yref": "y domain"
         },
         {
          "fillcolor": "#D2E9FF",
          "layer": "below",
          "line": {
           "width": 0
          },
          "opacity": 1,
          "type": "rect",
          "x0": "2021-07-07T12:00:00",
          "x1": "2021-07-08T12:00:00",
          "xref": "x",
          "y0": 0,
          "y1": 1,
          "yref": "y domain"
         },
         {
          "fillcolor": "#D2E9FF",
          "layer": "below",
          "line": {
           "width": 0
          },
          "opacity": 1,
          "type": "rect",
          "x0": "2021-07-14T12:00:00",
          "x1": "2021-07-15T12:00:00",
          "xref": "x",
          "y0": 0,
          "y1": 1,
          "yref": "y domain"
         },
         {
          "fillcolor": "#D2E9FF",
          "layer": "below",
          "line": {
           "width": 0
          },
          "opacity": 1,
          "type": "rect",
          "x0": "2021-06-09T12:00:00",
          "x1": "2021-06-10T12:00:00",
          "xref": "x",
          "y0": 0,
          "y1": 1,
          "yref": "y domain"
         },
         {
          "fillcolor": "#D2E9FF",
          "layer": "below",
          "line": {
           "width": 0
          },
          "opacity": 1,
          "type": "rect",
          "x0": "2021-07-18T12:00:00",
          "x1": "2021-07-19T12:00:00",
          "xref": "x",
          "y0": 0,
          "y1": 1,
          "yref": "y domain"
         },
         {
          "fillcolor": "#FFD2D2",
          "layer": "below",
          "line": {
           "width": 0
          },
          "opacity": 1,
          "type": "rect",
          "x0": "2021-04-21T12:00:00",
          "x1": "2021-04-22T12:00:00",
          "xref": "x",
          "y0": 0,
          "y1": 1,
          "yref": "y domain"
         },
         {
          "fillcolor": "#FFD2D2",
          "layer": "below",
          "line": {
           "width": 0
          },
          "opacity": 1,
          "type": "rect",
          "x0": "2021-04-28T12:00:00",
          "x1": "2021-04-29T12:00:00",
          "xref": "x",
          "y0": 0,
          "y1": 1,
          "yref": "y domain"
         },
         {
          "fillcolor": "#FFD2D2",
          "layer": "below",
          "line": {
           "width": 0
          },
          "opacity": 1,
          "type": "rect",
          "x0": "2021-05-10T12:00:00",
          "x1": "2021-05-11T12:00:00",
          "xref": "x",
          "y0": 0,
          "y1": 1,
          "yref": "y domain"
         },
         {
          "fillcolor": "#FFD2D2",
          "layer": "below",
          "line": {
           "width": 0
          },
          "opacity": 1,
          "type": "rect",
          "x0": "2021-05-11T12:00:00",
          "x1": "2021-05-12T12:00:00",
          "xref": "x",
          "y0": 0,
          "y1": 1,
          "yref": "y domain"
         },
         {
          "fillcolor": "#FFD2D2",
          "layer": "below",
          "line": {
           "width": 0
          },
          "opacity": 1,
          "type": "rect",
          "x0": "2021-05-22T12:00:00",
          "x1": "2021-05-23T12:00:00",
          "xref": "x",
          "y0": 0,
          "y1": 1,
          "yref": "y domain"
         },
         {
          "fillcolor": "#FFD2D2",
          "layer": "below",
          "line": {
           "width": 0
          },
          "opacity": 1,
          "type": "rect",
          "x0": "2021-05-31T12:00:00",
          "x1": "2021-06-01T12:00:00",
          "xref": "x",
          "y0": 0,
          "y1": 1,
          "yref": "y domain"
         },
         {
          "fillcolor": "#FFD2D2",
          "layer": "below",
          "line": {
           "width": 0
          },
          "opacity": 1,
          "type": "rect",
          "x0": "2021-06-22T12:00:00",
          "x1": "2021-06-23T12:00:00",
          "xref": "x",
          "y0": 0,
          "y1": 1,
          "yref": "y domain"
         },
         {
          "fillcolor": "#FFD2D2",
          "layer": "below",
          "line": {
           "width": 0
          },
          "opacity": 1,
          "type": "rect",
          "x0": "2021-07-01T12:00:00",
          "x1": "2021-07-02T12:00:00",
          "xref": "x",
          "y0": 0,
          "y1": 1,
          "yref": "y domain"
         },
         {
          "fillcolor": "#FFD2D2",
          "layer": "below",
          "line": {
           "width": 0
          },
          "opacity": 1,
          "type": "rect",
          "x0": "2021-07-12T12:00:00",
          "x1": "2021-07-13T12:00:00",
          "xref": "x",
          "y0": 0,
          "y1": 1,
          "yref": "y domain"
         }
        ],
        "template": {
         "data": {
          "bar": [
           {
            "error_x": {
             "color": "#2a3f5f"
            },
            "error_y": {
             "color": "#2a3f5f"
            },
            "marker": {
             "line": {
              "color": "#E5ECF6",
              "width": 0.5
             },
             "pattern": {
              "fillmode": "overlay",
              "size": 10,
              "solidity": 0.2
             }
            },
            "type": "bar"
           }
          ],
          "barpolar": [
           {
            "marker": {
             "line": {
              "color": "#E5ECF6",
              "width": 0.5
             },
             "pattern": {
              "fillmode": "overlay",
              "size": 10,
              "solidity": 0.2
             }
            },
            "type": "barpolar"
           }
          ],
          "carpet": [
           {
            "aaxis": {
             "endlinecolor": "#2a3f5f",
             "gridcolor": "white",
             "linecolor": "white",
             "minorgridcolor": "white",
             "startlinecolor": "#2a3f5f"
            },
            "baxis": {
             "endlinecolor": "#2a3f5f",
             "gridcolor": "white",
             "linecolor": "white",
             "minorgridcolor": "white",
             "startlinecolor": "#2a3f5f"
            },
            "type": "carpet"
           }
          ],
          "choropleth": [
           {
            "colorbar": {
             "outlinewidth": 0,
             "ticks": ""
            },
            "type": "choropleth"
           }
          ],
          "contour": [
           {
            "colorbar": {
             "outlinewidth": 0,
             "ticks": ""
            },
            "colorscale": [
             [
              0,
              "#0d0887"
             ],
             [
              0.1111111111111111,
              "#46039f"
             ],
             [
              0.2222222222222222,
              "#7201a8"
             ],
             [
              0.3333333333333333,
              "#9c179e"
             ],
             [
              0.4444444444444444,
              "#bd3786"
             ],
             [
              0.5555555555555556,
              "#d8576b"
             ],
             [
              0.6666666666666666,
              "#ed7953"
             ],
             [
              0.7777777777777778,
              "#fb9f3a"
             ],
             [
              0.8888888888888888,
              "#fdca26"
             ],
             [
              1,
              "#f0f921"
             ]
            ],
            "type": "contour"
           }
          ],
          "contourcarpet": [
           {
            "colorbar": {
             "outlinewidth": 0,
             "ticks": ""
            },
            "type": "contourcarpet"
           }
          ],
          "heatmap": [
           {
            "colorbar": {
             "outlinewidth": 0,
             "ticks": ""
            },
            "colorscale": [
             [
              0,
              "#0d0887"
             ],
             [
              0.1111111111111111,
              "#46039f"
             ],
             [
              0.2222222222222222,
              "#7201a8"
             ],
             [
              0.3333333333333333,
              "#9c179e"
             ],
             [
              0.4444444444444444,
              "#bd3786"
             ],
             [
              0.5555555555555556,
              "#d8576b"
             ],
             [
              0.6666666666666666,
              "#ed7953"
             ],
             [
              0.7777777777777778,
              "#fb9f3a"
             ],
             [
              0.8888888888888888,
              "#fdca26"
             ],
             [
              1,
              "#f0f921"
             ]
            ],
            "type": "heatmap"
           }
          ],
          "heatmapgl": [
           {
            "colorbar": {
             "outlinewidth": 0,
             "ticks": ""
            },
            "colorscale": [
             [
              0,
              "#0d0887"
             ],
             [
              0.1111111111111111,
              "#46039f"
             ],
             [
              0.2222222222222222,
              "#7201a8"
             ],
             [
              0.3333333333333333,
              "#9c179e"
             ],
             [
              0.4444444444444444,
              "#bd3786"
             ],
             [
              0.5555555555555556,
              "#d8576b"
             ],
             [
              0.6666666666666666,
              "#ed7953"
             ],
             [
              0.7777777777777778,
              "#fb9f3a"
             ],
             [
              0.8888888888888888,
              "#fdca26"
             ],
             [
              1,
              "#f0f921"
             ]
            ],
            "type": "heatmapgl"
           }
          ],
          "histogram": [
           {
            "marker": {
             "pattern": {
              "fillmode": "overlay",
              "size": 10,
              "solidity": 0.2
             }
            },
            "type": "histogram"
           }
          ],
          "histogram2d": [
           {
            "colorbar": {
             "outlinewidth": 0,
             "ticks": ""
            },
            "colorscale": [
             [
              0,
              "#0d0887"
             ],
             [
              0.1111111111111111,
              "#46039f"
             ],
             [
              0.2222222222222222,
              "#7201a8"
             ],
             [
              0.3333333333333333,
              "#9c179e"
             ],
             [
              0.4444444444444444,
              "#bd3786"
             ],
             [
              0.5555555555555556,
              "#d8576b"
             ],
             [
              0.6666666666666666,
              "#ed7953"
             ],
             [
              0.7777777777777778,
              "#fb9f3a"
             ],
             [
              0.8888888888888888,
              "#fdca26"
             ],
             [
              1,
              "#f0f921"
             ]
            ],
            "type": "histogram2d"
           }
          ],
          "histogram2dcontour": [
           {
            "colorbar": {
             "outlinewidth": 0,
             "ticks": ""
            },
            "colorscale": [
             [
              0,
              "#0d0887"
             ],
             [
              0.1111111111111111,
              "#46039f"
             ],
             [
              0.2222222222222222,
              "#7201a8"
             ],
             [
              0.3333333333333333,
              "#9c179e"
             ],
             [
              0.4444444444444444,
              "#bd3786"
             ],
             [
              0.5555555555555556,
              "#d8576b"
             ],
             [
              0.6666666666666666,
              "#ed7953"
             ],
             [
              0.7777777777777778,
              "#fb9f3a"
             ],
             [
              0.8888888888888888,
              "#fdca26"
             ],
             [
              1,
              "#f0f921"
             ]
            ],
            "type": "histogram2dcontour"
           }
          ],
          "mesh3d": [
           {
            "colorbar": {
             "outlinewidth": 0,
             "ticks": ""
            },
            "type": "mesh3d"
           }
          ],
          "parcoords": [
           {
            "line": {
             "colorbar": {
              "outlinewidth": 0,
              "ticks": ""
             }
            },
            "type": "parcoords"
           }
          ],
          "pie": [
           {
            "automargin": true,
            "type": "pie"
           }
          ],
          "scatter": [
           {
            "marker": {
             "colorbar": {
              "outlinewidth": 0,
              "ticks": ""
             }
            },
            "type": "scatter"
           }
          ],
          "scatter3d": [
           {
            "line": {
             "colorbar": {
              "outlinewidth": 0,
              "ticks": ""
             }
            },
            "marker": {
             "colorbar": {
              "outlinewidth": 0,
              "ticks": ""
             }
            },
            "type": "scatter3d"
           }
          ],
          "scattercarpet": [
           {
            "marker": {
             "colorbar": {
              "outlinewidth": 0,
              "ticks": ""
             }
            },
            "type": "scattercarpet"
           }
          ],
          "scattergeo": [
           {
            "marker": {
             "colorbar": {
              "outlinewidth": 0,
              "ticks": ""
             }
            },
            "type": "scattergeo"
           }
          ],
          "scattergl": [
           {
            "marker": {
             "colorbar": {
              "outlinewidth": 0,
              "ticks": ""
             }
            },
            "type": "scattergl"
           }
          ],
          "scattermapbox": [
           {
            "marker": {
             "colorbar": {
              "outlinewidth": 0,
              "ticks": ""
             }
            },
            "type": "scattermapbox"
           }
          ],
          "scatterpolar": [
           {
            "marker": {
             "colorbar": {
              "outlinewidth": 0,
              "ticks": ""
             }
            },
            "type": "scatterpolar"
           }
          ],
          "scatterpolargl": [
           {
            "marker": {
             "colorbar": {
              "outlinewidth": 0,
              "ticks": ""
             }
            },
            "type": "scatterpolargl"
           }
          ],
          "scatterternary": [
           {
            "marker": {
             "colorbar": {
              "outlinewidth": 0,
              "ticks": ""
             }
            },
            "type": "scatterternary"
           }
          ],
          "surface": [
           {
            "colorbar": {
             "outlinewidth": 0,
             "ticks": ""
            },
            "colorscale": [
             [
              0,
              "#0d0887"
             ],
             [
              0.1111111111111111,
              "#46039f"
             ],
             [
              0.2222222222222222,
              "#7201a8"
             ],
             [
              0.3333333333333333,
              "#9c179e"
             ],
             [
              0.4444444444444444,
              "#bd3786"
             ],
             [
              0.5555555555555556,
              "#d8576b"
             ],
             [
              0.6666666666666666,
              "#ed7953"
             ],
             [
              0.7777777777777778,
              "#fb9f3a"
             ],
             [
              0.8888888888888888,
              "#fdca26"
             ],
             [
              1,
              "#f0f921"
             ]
            ],
            "type": "surface"
           }
          ],
          "table": [
           {
            "cells": {
             "fill": {
              "color": "#EBF0F8"
             },
             "line": {
              "color": "white"
             }
            },
            "header": {
             "fill": {
              "color": "#C8D4E3"
             },
             "line": {
              "color": "white"
             }
            },
            "type": "table"
           }
          ]
         },
         "layout": {
          "annotationdefaults": {
           "arrowcolor": "#2a3f5f",
           "arrowhead": 0,
           "arrowwidth": 1
          },
          "autotypenumbers": "strict",
          "coloraxis": {
           "colorbar": {
            "outlinewidth": 0,
            "ticks": ""
           }
          },
          "colorscale": {
           "diverging": [
            [
             0,
             "#8e0152"
            ],
            [
             0.1,
             "#c51b7d"
            ],
            [
             0.2,
             "#de77ae"
            ],
            [
             0.3,
             "#f1b6da"
            ],
            [
             0.4,
             "#fde0ef"
            ],
            [
             0.5,
             "#f7f7f7"
            ],
            [
             0.6,
             "#e6f5d0"
            ],
            [
             0.7,
             "#b8e186"
            ],
            [
             0.8,
             "#7fbc41"
            ],
            [
             0.9,
             "#4d9221"
            ],
            [
             1,
             "#276419"
            ]
           ],
           "sequential": [
            [
             0,
             "#0d0887"
            ],
            [
             0.1111111111111111,
             "#46039f"
            ],
            [
             0.2222222222222222,
             "#7201a8"
            ],
            [
             0.3333333333333333,
             "#9c179e"
            ],
            [
             0.4444444444444444,
             "#bd3786"
            ],
            [
             0.5555555555555556,
             "#d8576b"
            ],
            [
             0.6666666666666666,
             "#ed7953"
            ],
            [
             0.7777777777777778,
             "#fb9f3a"
            ],
            [
             0.8888888888888888,
             "#fdca26"
            ],
            [
             1,
             "#f0f921"
            ]
           ],
           "sequentialminus": [
            [
             0,
             "#0d0887"
            ],
            [
             0.1111111111111111,
             "#46039f"
            ],
            [
             0.2222222222222222,
             "#7201a8"
            ],
            [
             0.3333333333333333,
             "#9c179e"
            ],
            [
             0.4444444444444444,
             "#bd3786"
            ],
            [
             0.5555555555555556,
             "#d8576b"
            ],
            [
             0.6666666666666666,
             "#ed7953"
            ],
            [
             0.7777777777777778,
             "#fb9f3a"
            ],
            [
             0.8888888888888888,
             "#fdca26"
            ],
            [
             1,
             "#f0f921"
            ]
           ]
          },
          "colorway": [
           "#636efa",
           "#EF553B",
           "#00cc96",
           "#ab63fa",
           "#FFA15A",
           "#19d3f3",
           "#FF6692",
           "#B6E880",
           "#FF97FF",
           "#FECB52"
          ],
          "font": {
           "color": "#2a3f5f"
          },
          "geo": {
           "bgcolor": "white",
           "lakecolor": "white",
           "landcolor": "#E5ECF6",
           "showlakes": true,
           "showland": true,
           "subunitcolor": "white"
          },
          "hoverlabel": {
           "align": "left"
          },
          "hovermode": "closest",
          "mapbox": {
           "style": "light"
          },
          "paper_bgcolor": "white",
          "plot_bgcolor": "#E5ECF6",
          "polar": {
           "angularaxis": {
            "gridcolor": "white",
            "linecolor": "white",
            "ticks": ""
           },
           "bgcolor": "#E5ECF6",
           "radialaxis": {
            "gridcolor": "white",
            "linecolor": "white",
            "ticks": ""
           }
          },
          "scene": {
           "xaxis": {
            "backgroundcolor": "#E5ECF6",
            "gridcolor": "white",
            "gridwidth": 2,
            "linecolor": "white",
            "showbackground": true,
            "ticks": "",
            "zerolinecolor": "white"
           },
           "yaxis": {
            "backgroundcolor": "#E5ECF6",
            "gridcolor": "white",
            "gridwidth": 2,
            "linecolor": "white",
            "showbackground": true,
            "ticks": "",
            "zerolinecolor": "white"
           },
           "zaxis": {
            "backgroundcolor": "#E5ECF6",
            "gridcolor": "white",
            "gridwidth": 2,
            "linecolor": "white",
            "showbackground": true,
            "ticks": "",
            "zerolinecolor": "white"
           }
          },
          "shapedefaults": {
           "line": {
            "color": "#2a3f5f"
           }
          },
          "ternary": {
           "aaxis": {
            "gridcolor": "white",
            "linecolor": "white",
            "ticks": ""
           },
           "baxis": {
            "gridcolor": "white",
            "linecolor": "white",
            "ticks": ""
           },
           "bgcolor": "#E5ECF6",
           "caxis": {
            "gridcolor": "white",
            "linecolor": "white",
            "ticks": ""
           }
          },
          "title": {
           "x": 0.05
          },
          "xaxis": {
           "automargin": true,
           "gridcolor": "white",
           "linecolor": "white",
           "ticks": "",
           "title": {
            "standoff": 15
           },
           "zerolinecolor": "white",
           "zerolinewidth": 2
          },
          "yaxis": {
           "automargin": true,
           "gridcolor": "white",
           "linecolor": "white",
           "ticks": "",
           "title": {
            "standoff": 15
           },
           "zerolinecolor": "white",
           "zerolinewidth": 2
          }
         }
        },
        "title": {
         "text": "臺灣COVID-19疫苗接種統計報表",
         "x": 0.5,
         "xanchor": "center"
        },
        "xaxis": {
         "anchor": "y",
         "constrain": "domain",
         "domain": [
          0,
          0.94
         ],
         "linecolor": "black",
         "mirror": true,
         "range": [
          "2021-03-01",
          "2021-07-21T00:00:00"
         ],
         "showline": true,
         "ticks": "outside",
         "title": {
          "text": "事件/統計日期(西元)"
         }
        },
        "yaxis": {
         "anchor": "x",
         "color": "red",
         "domain": [
          0,
          1
         ],
         "gridcolor": "darkgray",
         "linecolor": "red",
         "range": [
          0,
          600
         ],
         "showgrid": true,
         "showline": true,
         "ticks": "outside",
         "title": {
          "text": "新增本土確診/死亡（人）"
         }
        },
        "yaxis2": {
         "anchor": "x",
         "color": "#6F00D2",
         "linecolor": "#6F00D2",
         "overlaying": "y",
         "range": [
          0,
          100
         ],
         "showgrid": false,
         "showline": true,
         "side": "right",
         "ticks": "outside",
         "title": {
          "text": "疫苗接種(%)"
         }
        }
       }
      }
     },
     "metadata": {}
    }
   ],
   "metadata": {}
  },
  {
   "cell_type": "code",
   "execution_count": 99,
   "source": [
    "# convert to .py\n",
    "!jupyter nbconvert --to script graph.ipynb"
   ],
   "outputs": [
    {
     "output_type": "stream",
     "name": "stdout",
     "text": [
      "[NbConvertApp] Converting notebook graph.ipynb to script\n",
      "[NbConvertApp] Writing 13211 bytes to graph.py\n"
     ]
    }
   ],
   "metadata": {}
  },
  {
   "cell_type": "code",
   "execution_count": 100,
   "source": [
    "# https://github.com/plotly/plotly.py/issues/1756\n",
    "\n",
    "from plotly.offline import plot\n",
    "import pandas as pd\n",
    "import plotly.graph_objs as go\n",
    "import re\n",
    "\n",
    "# mapbox_access_token = '...'\n",
    "\n",
    "# Build scattermapbox trace and store URL's in the customdata\n",
    "# property. The values of this list will be easy to get to in the\n",
    "# JavaScript callback below\n",
    "data = [\n",
    "    go.Scatter(\n",
    "        x=[1, 2, 3],\n",
    "        y=[1, 3, 2],\n",
    "        mode='markers',\n",
    "        marker=dict(\n",
    "            size=14\n",
    "        ),\n",
    "        name='mapbox 1',\n",
    "        text=['Montreal'],\n",
    "        customdata=['https://www.baidu.com', 'http://www.fabricschina.com.cn/', 'https://www.zhihu.com']\n",
    "    )\n",
    "]\n",
    "\n",
    "# Build layout\n",
    "layout = go.Layout(\n",
    "    hovermode='closest',\n",
    ")\n",
    "\n",
    "# Build Figure\n",
    "#fig = go.Figure(\n",
    "#    data=data,\n",
    "#    layout=layout,\n",
    "#)\n",
    "\n",
    "# Get HTML representation of plotly.js and this figure\n",
    "plot_div = plot(fig, output_type='div', include_plotlyjs=True)\n",
    "\n",
    "# Get id of html div element that looks like\n",
    "# <div id=\"301d22ab-bfba-4621-8f5d-dc4fd855bb33\" ... >\n",
    "res = re.search('<div id=\"([^\"]*)\"', plot_div)\n",
    "div_id = res.groups()[0]\n",
    "\n",
    "# Build JavaScript callback for handling clicks\n",
    "# and opening the URL in the trace's customdata \n",
    "js_callback = \"\"\"\n",
    "<script>\n",
    "var plot_element = document.getElementById(\"{div_id}\");\n",
    "plot_element.on('plotly_click', function(data){{\n",
    "    console.log(data);\n",
    "    var point = data.points[0];\n",
    "    if (point) {{\n",
    "        console.log(point.customdata);\n",
    "        if (point.customdata){{\n",
    "            window.open(point.customdata);\n",
    "        }}\n",
    "    }}\n",
    "}})\n",
    "</script>\n",
    "\"\"\".format(div_id=div_id)\n",
    "\n",
    "# Build HTML string\n",
    "html_str = \"\"\"\n",
    "<html>\n",
    "<body>\n",
    "{plot_div}\n",
    "{js_callback}\n",
    "</body>\n",
    "</html>\n",
    "\"\"\".format(plot_div=plot_div, js_callback=js_callback)\n",
    "\n",
    "\n",
    "# Write out HTML file\n",
    "with open('_includes/figure.html', 'w') as f:\n",
    "    f.write(html_str)"
   ],
   "outputs": [],
   "metadata": {}
  },
  {
   "cell_type": "code",
   "execution_count": 101,
   "source": [
    "eventURL"
   ],
   "outputs": [
    {
     "output_type": "execute_result",
     "data": {
      "text/plain": [
       "array(['https://www.google.com/search?q=AZ自購萬劑抵臺+March+03+2021',\n",
       "       'https://www.google.com/search?q=AZ封緘+March+18+2021',\n",
       "       'https://www.google.com/search?q=開始疫苗接種+AZ開打+March+22+2021',\n",
       "       'https://www.google.com/search?q=AZ自購萬劑抵臺+April+04+2021',\n",
       "       'https://www.google.com/search?q=AZ擴大施打+AZ封緘+April+12+2021',\n",
       "       'https://www.google.com/search?q=AZ自費開打+April+21+2021',\n",
       "       'https://www.google.com/search?q=美國將台灣列為旅遊警示3級+April+22+2021',\n",
       "       'https://www.google.com/search?q=桃園諾富特防疫旅館員工確診+April+29+2021',\n",
       "       'https://www.google.com/search?q=公費疫苗開放1至3類對象同住者+May+03+2021',\n",
       "       'https://www.google.com/search?q=疫苗擴大開放軍人及65歲以上長者+May+10+2021',\n",
       "       'https://www.google.com/search?q=全國疫情警戒升第二級+五股獅子前會長+宜蘭電子遊藝場5人確診+May+11+2021',\n",
       "       'https://www.google.com/search?q=臺北萬華茶室2員工確診+May+12+2021',\n",
       "       'https://www.google.com/search?q=雙北疫情警戒升第三級+停止自費疫苗預約+May+15+2021',\n",
       "       'https://www.google.com/search?q=AZ自購萬劑抵臺+全國疫情警戒升第三級+May+19+2021',\n",
       "       'https://www.google.com/search?q=臺北信義長照機構群聚感染+May+23+2021',\n",
       "       'https://www.google.com/search?q=AZ封緘+May+26+2021',\n",
       "       'https://www.google.com/search?q=AZ配送+May+27+2021',\n",
       "       'https://www.google.com/search?q=莫德納自購萬劑抵臺+AZ開打+簽約國產一千萬劑+May+28+2021',\n",
       "       'https://www.google.com/search?q=政府公告已採購兩千萬國外、一千萬國產疫苗+May+30+2021',\n",
       "       'https://www.google.com/search?q=苗栗電子業移工宿舍群聚感染+June+01+2021',\n",
       "       'https://www.google.com/search?q=日本AZ援助一百萬劑抵臺+June+04+2021',\n",
       "       'https://www.google.com/search?q=政府公布公費疫苗施打免掛號費+June+05+2021',\n",
       "       'https://www.google.com/search?q=美國議員搭軍機訪臺宣布援助疫苗75萬劑+June+06+2021',\n",
       "       'https://www.google.com/search?q=開始公費疫苗接種免掛號費+莫德納封緘+June+07+2021',\n",
       "       'https://www.google.com/search?q=莫德納開打+臺北好心肝違法施打疫苗+June+09+2021',\n",
       "       'https://www.google.com/search?q=高端二期臨床實驗解盲成功+June+10+2021',\n",
       "       'https://www.google.com/search?q=AZ封緘+配送+June+11+2021',\n",
       "       'https://www.ptt.cc/bbs/Gossiping/M.1623851372.A.53B.html',\n",
       "       'https://www.google.com/search?q=AZ開打+疫苗擴大接種至歲以上長者+June+15+2021',\n",
       "       'https://www.google.com/search?q=AZ第二次配送+June+17+2021',\n",
       "       'https://www.ptt.cc/bbs/Gossiping/M.1623997930.A.C53.html',\n",
       "       'https://www.cna.com.tw/news/ahel/202106210202.aspx',\n",
       "       'https://www.ptt.cc/bbs/nCoV2019/M.1624338354.A.4EA.html',\n",
       "       'https://www.ptt.cc/bbs/Gossiping/M.1624353131.A.6A2.html',\n",
       "       'https://www.ptt.cc/bbs/Gossiping/M.1624442179.A.EAD.html',\n",
       "       'https://www.ptt.cc/bbs/nCoV2019/M.1624588136.A.573.html',\n",
       "       'https://www.ptt.cc/bbs/nCoV2019/M.1624698667.A.EE7.html',\n",
       "       'https://www.cdc.gov.tw/Bulletin/Detail/pYQ-ddE0kOM_t_QJfc8xjw?typeid=9',\n",
       "       'https://www.ptt.cc/bbs/nCoV2019/M.1624698667.A.EE7.html',\n",
       "       'https://www.ptt.cc/bbs/Gossiping/M.1625266516.A.3AA.html',\n",
       "       'https://www.ptt.cc/bbs/nCoV2019/M.1625193085.A.C0E.html',\n",
       "       'https://www.ptt.cc/bbs/Gossiping/M.1625488302.A.C95.html',\n",
       "       'https://www.ptt.cc/bbs/Gossiping/M.1625537692.A.FDE.html',\n",
       "       'https://www.ptt.cc/bbs/nCoV2019/M.1626153834.A.789.htm',\n",
       "       'https://www.cna.com.tw/news/firstnews/202107145009.aspx',\n",
       "       'https://www.cdc.gov.tw/Bulletin/Detail/TRxFQmh7DNXlnYJdF8qV-A?typeid=9',\n",
       "       'https://news.ltn.com.tw/news/life/breakingnews/3606195',\n",
       "       'https://www.cdc.gov.tw/Bulletin/Detail/gzkfXTnBuktqDJ3BXhI54w?typeid=9'],\n",
       "      dtype=object)"
      ]
     },
     "metadata": {},
     "execution_count": 101
    }
   ],
   "metadata": {}
  },
  {
   "cell_type": "code",
   "execution_count": null,
   "source": [],
   "outputs": [],
   "metadata": {}
  }
 ],
 "metadata": {
  "kernelspec": {
   "name": "python3",
   "display_name": "Python 3.9.2 64-bit ('flask': conda)"
  },
  "language_info": {
   "codemirror_mode": {
    "name": "ipython",
    "version": 3
   },
   "file_extension": ".py",
   "mimetype": "text/x-python",
   "name": "python",
   "nbconvert_exporter": "python",
   "pygments_lexer": "ipython3",
   "version": "3.9.2"
  },
  "interpreter": {
   "hash": "902cf79c6dfc42d3e0835c8817c18ca9ea6bcb5d7807c20dc2336983d4532a28"
  }
 },
 "nbformat": 4,
 "nbformat_minor": 2
}